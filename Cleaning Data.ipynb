{
  "metadata": {
    "kernelspec": {
      "name": "python",
      "display_name": "Python (Pyodide)",
      "language": "python"
    },
    "language_info": {
      "codemirror_mode": {
        "name": "python",
        "version": 3
      },
      "file_extension": ".py",
      "mimetype": "text/x-python",
      "name": "python",
      "nbconvert_exporter": "python",
      "pygments_lexer": "ipython3",
      "version": "3.8"
    }
  },
  "nbformat_minor": 5,
  "nbformat": 4,
  "cells": [
    {
      "id": "3c92d257-278a-4c9b-8ba3-1791d7db58fa",
      "cell_type": "markdown",
      "source": "## Cleaning Data",
      "metadata": {}
    },
    {
      "id": "90b83d9c-af14-4933-a3bb-eb9e309cce6f",
      "cell_type": "code",
      "source": "import pandas as pd\n\ndf = pd.read_csv('student.csv')\n\nprint(df)",
      "metadata": {
        "trusted": true
      },
      "outputs": [
        {
          "name": "stdout",
          "output_type": "stream",
          "text": "   ID     Name     Age Score         City     JoinedDate\n0   1    Alice      21    85     New York     2023-01-15\n1   2      Bob            90  Los Angeles     2023-03-12\n2   3  Charlie      22   NaN      Chicago     2022-11-30\n3   4    David      23    78     New York     2023-02-20\n4   5      Eva      21    88                  2023-03-01\n5   6    Alice      21    85     New York     2023-01-15\n6   7   Frank       24    92      Houston     2023-05-10\n7   8    Grace  twenty    75       Boston  not_available\n8   9      NaN      25    80       Dallas     2023-04-15\n9  10    Henry      22             Austin     2023-06-05\n"
        }
      ],
      "execution_count": 2
    },
    {
      "id": "53d20ccb-7c58-4664-ae30-a81bc7359cf9",
      "cell_type": "markdown",
      "source": "### Drop Na",
      "metadata": {}
    },
    {
      "id": "c4a540b7-358b-49a4-9e73-61250391d660",
      "cell_type": "code",
      "source": "new_df=df.dropna()\n\nprint(new_df)",
      "metadata": {
        "trusted": true
      },
      "outputs": [
        {
          "name": "stdout",
          "output_type": "stream",
          "text": "   ID     Name     Age Score         City     JoinedDate\n0   1    Alice      21    85     New York     2023-01-15\n1   2      Bob            90  Los Angeles     2023-03-12\n3   4    David      23    78     New York     2023-02-20\n4   5      Eva      21    88                  2023-03-01\n5   6    Alice      21    85     New York     2023-01-15\n6   7   Frank       24    92      Houston     2023-05-10\n7   8    Grace  twenty    75       Boston  not_available\n9  10    Henry      22             Austin     2023-06-05\n"
        }
      ],
      "execution_count": 3
    },
    {
      "id": "88be1d0f-830e-4bf2-a5fa-3995cfb8f324",
      "cell_type": "code",
      "source": "print(df)",
      "metadata": {
        "trusted": true
      },
      "outputs": [
        {
          "name": "stdout",
          "output_type": "stream",
          "text": "   ID     Name     Age Score         City     JoinedDate\n0   1    Alice      21    85     New York     2023-01-15\n1   2      Bob            90  Los Angeles     2023-03-12\n2   3  Charlie      22   NaN      Chicago     2022-11-30\n3   4    David      23    78     New York     2023-02-20\n4   5      Eva      21    88                  2023-03-01\n5   6    Alice      21    85     New York     2023-01-15\n6   7   Frank       24    92      Houston     2023-05-10\n7   8    Grace  twenty    75       Boston  not_available\n8   9      NaN      25    80       Dallas     2023-04-15\n9  10    Henry      22             Austin     2023-06-05\n"
        }
      ],
      "execution_count": 4
    },
    {
      "id": "126e4868-24f0-40af-aa6c-bcc1a50c0841",
      "cell_type": "markdown",
      "source": "### Fill Na",
      "metadata": {}
    },
    {
      "id": "7e7962ff-a712-43b8-bc03-f5e5e654ed80",
      "cell_type": "code",
      "source": "new_df=df.fillna({\"Score\":120})\nprint(new_df)",
      "metadata": {
        "trusted": true
      },
      "outputs": [
        {
          "name": "stdout",
          "output_type": "stream",
          "text": "   ID     Name     Age Score         City     JoinedDate\n0   1    Alice      21    85     New York     2023-01-15\n1   2      Bob            90  Los Angeles     2023-03-12\n2   3  Charlie      22   120      Chicago     2022-11-30\n3   4    David      23    78     New York     2023-02-20\n4   5      Eva      21    88                  2023-03-01\n5   6    Alice      21    85     New York     2023-01-15\n6   7   Frank       24    92      Houston     2023-05-10\n7   8    Grace  twenty    75       Boston  not_available\n8   9      NaN      25    80       Dallas     2023-04-15\n9  10    Henry      22             Austin     2023-06-05\n"
        }
      ],
      "execution_count": 5
    },
    {
      "id": "be774597-219a-4c05-bd1e-e37f5c71f2c1",
      "cell_type": "code",
      "source": "print(df)",
      "metadata": {
        "trusted": true
      },
      "outputs": [
        {
          "name": "stdout",
          "output_type": "stream",
          "text": "   ID     Name     Age Score         City     JoinedDate\n0   1    Alice      21    85     New York     2023-01-15\n1   2      Bob            90  Los Angeles     2023-03-12\n2   3  Charlie      22   NaN      Chicago     2022-11-30\n3   4    David      23    78     New York     2023-02-20\n4   5      Eva      21    88                  2023-03-01\n5   6    Alice      21    85     New York     2023-01-15\n6   7   Frank       24    92      Houston     2023-05-10\n7   8    Grace  twenty    75       Boston  not_available\n8   9      NaN      25    80       Dallas     2023-04-15\n9  10    Henry      22             Austin     2023-06-05\n"
        }
      ],
      "execution_count": 6
    },
    {
      "id": "a3311ac1-9d5c-4426-b77a-f1c1408c87c7",
      "cell_type": "markdown",
      "source": "### Mode",
      "metadata": {}
    },
    {
      "id": "81156dad-dc9f-44a3-a273-133f347756f1",
      "cell_type": "code",
      "source": "x = df[\"Age\"].mode()[0]\nprint(x)",
      "metadata": {
        "trusted": true
      },
      "outputs": [
        {
          "name": "stdout",
          "output_type": "stream",
          "text": "21\n"
        }
      ],
      "execution_count": 7
    },
    {
      "id": "4ba21718-65de-4033-b7bd-eb3ffb22b3ab",
      "cell_type": "markdown",
      "source": "### Mean",
      "metadata": {}
    },
    {
      "id": "31693c0e-dfad-409a-aa63-663518aab447",
      "cell_type": "code",
      "source": "import numpy as np\ndf = pd.read_csv('student.csv')\ndf=df.replace('  ',np.nan)\ndf=df.replace(' ',np.nan)\ndf=df.replace('',np.nan)\nprint(df.head(10))\ndf[\"Score\"]=df[\"Score\"].astype(float)\nx=df[\"Score\"].mean()\nprint(x)",
      "metadata": {
        "trusted": true
      },
      "outputs": [
        {
          "name": "stdout",
          "output_type": "stream",
          "text": "   ID     Name     Age Score         City     JoinedDate\n0   1    Alice      21    85     New York     2023-01-15\n1   2      Bob     NaN    90  Los Angeles     2023-03-12\n2   3  Charlie      22   NaN      Chicago     2022-11-30\n3   4    David      23    78     New York     2023-02-20\n4   5      Eva      21    88          NaN     2023-03-01\n5   6    Alice      21    85     New York     2023-01-15\n6   7   Frank       24    92      Houston     2023-05-10\n7   8    Grace  twenty    75       Boston  not_available\n8   9      NaN      25    80       Dallas     2023-04-15\n9  10    Henry      22   NaN       Austin     2023-06-05\n84.125\n"
        }
      ],
      "execution_count": 9
    },
    {
      "id": "83a1b869-bf67-4ac8-9244-5d3b6b4ec5aa",
      "cell_type": "markdown",
      "source": "### Median",
      "metadata": {}
    },
    {
      "id": "be19758b-e3de-4bee-a347-a5afc6a9328d",
      "cell_type": "code",
      "source": "x=df[\"Score\"].median()\nprint(x)",
      "metadata": {
        "trusted": true
      },
      "outputs": [
        {
          "name": "stdout",
          "output_type": "stream",
          "text": "85.0\n"
        }
      ],
      "execution_count": 10
    },
    {
      "id": "13958ece-e89c-4f8e-a1b3-15c897fc76d3",
      "cell_type": "markdown",
      "source": "# Cleaning Wrong Format",
      "metadata": {}
    },
    {
      "id": "0974fefc-2fce-4b82-9961-de9be1324fc7",
      "cell_type": "markdown",
      "source": "## Convert into correct format",
      "metadata": {}
    },
    {
      "id": "dea03817-0674-4ab1-828a-129b7119aac5",
      "cell_type": "code",
      "source": "df['JoinedDate'] = pd.to_datetime(df['JoinedDate'], errors='coerce')\n\nprint(df)",
      "metadata": {
        "trusted": true
      },
      "outputs": [
        {
          "name": "stdout",
          "output_type": "stream",
          "text": "   ID     Name     Age  Score         City JoinedDate\n0   1    Alice      21   85.0     New York 2023-01-15\n1   2      Bob     NaN   90.0  Los Angeles 2023-03-12\n2   3  Charlie      22    NaN      Chicago 2022-11-30\n3   4    David      23   78.0     New York 2023-02-20\n4   5      Eva      21   88.0          NaN 2023-03-01\n5   6    Alice      21   85.0     New York 2023-01-15\n6   7   Frank       24   92.0      Houston 2023-05-10\n7   8    Grace  twenty   75.0       Boston        NaT\n8   9      NaN      25   80.0       Dallas 2023-04-15\n9  10    Henry      22    NaN       Austin 2023-06-05\n"
        }
      ],
      "execution_count": 11
    },
    {
      "id": "3db89e6f-a505-4543-bc9f-9aac208ab3f3",
      "cell_type": "markdown",
      "source": "### Removing Rows",
      "metadata": {}
    },
    {
      "id": "12e7fecd-49cc-4db6-8f14-0ff376dbbc97",
      "cell_type": "code",
      "source": "new=df.dropna(subset=['JoinedDate'])\nprint(new)",
      "metadata": {
        "trusted": true
      },
      "outputs": [
        {
          "name": "stdout",
          "output_type": "stream",
          "text": "   ID     Name  Age  Score         City JoinedDate\n0   1    Alice   21   85.0     New York 2023-01-15\n1   2      Bob  NaN   90.0  Los Angeles 2023-03-12\n2   3  Charlie   22    NaN      Chicago 2022-11-30\n3   4    David   23   78.0     New York 2023-02-20\n4   5      Eva   21   88.0          NaN 2023-03-01\n5   6    Alice   21   85.0     New York 2023-01-15\n6   7   Frank    24   92.0      Houston 2023-05-10\n8   9      NaN   25   80.0       Dallas 2023-04-15\n9  10    Henry   22    NaN       Austin 2023-06-05\n"
        }
      ],
      "execution_count": 12
    },
    {
      "id": "5c97ebec-2b8c-4b38-b1a9-ede2bc0cea47",
      "cell_type": "markdown",
      "source": "### Removing Duplicate Data",
      "metadata": {}
    },
    {
      "id": "d44b3a41-e200-43f3-b83b-4fa4478c7afb",
      "cell_type": "code",
      "source": "print(df.duplicated())\n",
      "metadata": {
        "trusted": true
      },
      "outputs": [
        {
          "name": "stdout",
          "output_type": "stream",
          "text": "0    False\n1    False\n2    False\n3    False\n4    False\n5    False\n6    False\n7    False\n8    False\n9    False\ndtype: bool\n"
        }
      ],
      "execution_count": 13
    },
    {
      "id": "56269035-9a32-4a8b-af46-2129d54f566f",
      "cell_type": "markdown",
      "source": "### Cleaning Wrong Data",
      "metadata": {}
    },
    {
      "id": "067540ea-d85a-47cc-9282-1679e2ec8467",
      "cell_type": "code",
      "source": "df.loc[2, 'Score'] = 74\nprint(df)",
      "metadata": {
        "trusted": true,
        "scrolled": true
      },
      "outputs": [
        {
          "name": "stdout",
          "output_type": "stream",
          "text": "   ID     Name     Age  Score         City JoinedDate\n0   1    Alice      21   85.0     New York 2023-01-15\n1   2      Bob     NaN   90.0  Los Angeles 2023-03-12\n2   3  Charlie      22   74.0      Chicago 2022-11-30\n3   4    David      23   78.0     New York 2023-02-20\n4   5      Eva      21   88.0          NaN 2023-03-01\n5   6    Alice      21   85.0     New York 2023-01-15\n6   7   Frank       24   92.0      Houston 2023-05-10\n7   8    Grace  twenty   75.0       Boston        NaT\n8   9      NaN      25   80.0       Dallas 2023-04-15\n9  10    Henry      22    NaN       Austin 2023-06-05\n"
        }
      ],
      "execution_count": 14
    },
    {
      "id": "b3294794-e9b2-4d8c-b1d0-33e1ad4fc516",
      "cell_type": "code",
      "source": "",
      "metadata": {
        "trusted": true
      },
      "outputs": [],
      "execution_count": null
    }
  ]
}